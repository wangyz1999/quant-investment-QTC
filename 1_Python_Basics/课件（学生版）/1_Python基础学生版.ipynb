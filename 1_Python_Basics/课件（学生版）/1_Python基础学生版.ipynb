{
 "cells": [
  {
   "cell_type": "markdown",
   "metadata": {},
   "source": [
    "## Python基础语法"
   ]
  },
  {
   "cell_type": "markdown",
   "metadata": {},
   "source": [
    "### 1、交互式:\n",
    "\n",
    "命令逐条运行\n",
    "\n",
    "交互式编程不需要创建脚本文件，是通过 Python 解释器的交互模式进来编写代码。"
   ]
  },
  {
   "cell_type": "code",
   "execution_count": 3,
   "metadata": {},
   "outputs": [
    {
     "name": "stdout",
     "output_type": "stream",
     "text": [
      "9\n"
     ]
    }
   ],
   "source": [
    "print(9)"
   ]
  },
  {
   "cell_type": "markdown",
   "metadata": {},
   "source": [
    "### 2、脚本式:\n",
    "\n",
    "一次性全部运行\n",
    "\n",
    "通过脚本参数调用解释器开始执行脚本，直到脚本执行完毕。当脚本执行完成后，解释器不再有效。"
   ]
  },
  {
   "cell_type": "code",
   "execution_count": 2,
   "metadata": {
    "collapsed": true
   },
   "outputs": [],
   "source": [
    "#"
   ]
  },
  {
   "cell_type": "markdown",
   "metadata": {},
   "source": [
    "### 3、代码缩进问题:\n",
    "\n",
    "缩进替代({})\n",
    "\n",
    "学习Python与其他语言最大的区别就是，Python的代码块不使用大括号（{}）来控制类，函数以及其他逻辑判断。 \n",
    "python最具特色的就是用缩进来写模块。"
   ]
  },
  {
   "cell_type": "markdown",
   "metadata": {},
   "source": [
    "### 代码缩进（错误）"
   ]
  },
  {
   "cell_type": "code",
   "execution_count": 4,
   "metadata": {},
   "outputs": [
    {
     "name": "stdout",
     "output_type": "stream",
     "text": [
      "True\n",
      "price is greater than 0\n"
     ]
    }
   ],
   "source": [
    "price = 1\n",
    "if price>0:\n",
    "    print ('True')\n",
    "    print ('price is greater than 0')\n",
    "        # 没有严格缩进，在执行时会报错\n",
    "else:\n",
    "    print (\"False\")"
   ]
  },
  {
   "cell_type": "markdown",
   "metadata": {},
   "source": [
    "### 代码缩进（正确）"
   ]
  },
  {
   "cell_type": "code",
   "execution_count": 4,
   "metadata": {
    "collapsed": true
   },
   "outputs": [],
   "source": [
    "#"
   ]
  },
  {
   "cell_type": "markdown",
   "metadata": {},
   "source": [
    "### 4、注释代码\n",
    "\n",
    "单行注释用 # 开头\n",
    "\n",
    "多行注释用三个引号(''')\n",
    "\n",
    "代码注释有一个功能在于可以在写代码时跳过不想运行的行"
   ]
  },
  {
   "cell_type": "code",
   "execution_count": 5,
   "metadata": {
    "collapsed": true
   },
   "outputs": [],
   "source": [
    "# 世界你好\n",
    "# print('hello world')"
   ]
  },
  {
   "cell_type": "code",
   "execution_count": 6,
   "metadata": {},
   "outputs": [
    {
     "name": "stdout",
     "output_type": "stream",
     "text": [
      "all in\n"
     ]
    }
   ],
   "source": [
    "\"\"\"\n",
    "世界你好\n",
    "print('hello world')\n",
    "print('all in')\n",
    "\"\"\"\n",
    "\n",
    "print('all in')"
   ]
  },
  {
   "cell_type": "markdown",
   "metadata": {},
   "source": [
    "## 5、报错处理"
   ]
  },
  {
   "cell_type": "markdown",
   "metadata": {},
   "source": [
    "### 5.1定位与调试（第几行什么错怎么改）\n",
    "以下报错代码显示第四行出现错误，是缩进错误。"
   ]
  },
  {
   "cell_type": "code",
   "execution_count": 7,
   "metadata": {},
   "outputs": [
    {
     "ename": "SyntaxError",
     "evalue": "invalid syntax (<ipython-input-7-1d2f1bbcc104>, line 4)",
     "output_type": "error",
     "traceback": [
      "\u001b[1;36m  File \u001b[1;32m\"<ipython-input-7-1d2f1bbcc104>\"\u001b[1;36m, line \u001b[1;32m4\u001b[0m\n\u001b[1;33m    print (price is greater than 0)\u001b[0m\n\u001b[1;37m                               ^\u001b[0m\n\u001b[1;31mSyntaxError\u001b[0m\u001b[1;31m:\u001b[0m invalid syntax\n"
     ]
    }
   ],
   "source": [
    "price = 1\n",
    "if price>0:\n",
    "        print ('True')\n",
    "        print (price is greater than 0)\n",
    "else:\n",
    "    print \"False\""
   ]
  },
  {
   "cell_type": "markdown",
   "metadata": {},
   "source": [
    "以下报错代码显示第六行出现错误，是少了括号。"
   ]
  },
  {
   "cell_type": "code",
   "execution_count": 8,
   "metadata": {},
   "outputs": [
    {
     "ename": "SyntaxError",
     "evalue": "Missing parentheses in call to 'print' (<ipython-input-8-cf69990590e3>, line 6)",
     "output_type": "error",
     "traceback": [
      "\u001b[1;36m  File \u001b[1;32m\"<ipython-input-8-cf69990590e3>\"\u001b[1;36m, line \u001b[1;32m6\u001b[0m\n\u001b[1;33m    print \"False\"\u001b[0m\n\u001b[1;37m                ^\u001b[0m\n\u001b[1;31mSyntaxError\u001b[0m\u001b[1;31m:\u001b[0m Missing parentheses in call to 'print'\n"
     ]
    }
   ],
   "source": [
    "price=1\n",
    "if price>0:\n",
    "        print ('True')\n",
    "        print ('price is greater than 0')\n",
    "else:\n",
    "    print \"False\""
   ]
  },
  {
   "cell_type": "markdown",
   "metadata": {},
   "source": [
    "正确修改后的代码"
   ]
  },
  {
   "cell_type": "code",
   "execution_count": 9,
   "metadata": {
    "collapsed": true
   },
   "outputs": [],
   "source": [
    "#"
   ]
  },
  {
   "cell_type": "markdown",
   "metadata": {},
   "source": [
    "### 5.2 利用try/except来检查代码\n",
    "\n",
    "捕捉异常可以使用try/except语句。\n",
    "\n",
    "try/except语句用来检测try语句块中的错误，从而让except语句捕获异常信息并处理。\n",
    "\n",
    "如果你不想在异常发生时结束你的程序，只需在try里捕获它。"
   ]
  },
  {
   "cell_type": "markdown",
   "metadata": {},
   "source": [
    "try:\n",
    "\n",
    "    正常的操作\n",
    "   ......................\n",
    "   \n",
    "except:\n",
    "\n",
    "    发生异常，执行这块代码\n",
    "   ......................\n",
    "   \n",
    "else:\n",
    "\n",
    "    如果没有异常执行这块代码"
   ]
  },
  {
   "cell_type": "markdown",
   "metadata": {},
   "source": [
    "### 考虑这个情境，我们现在要向程序中输入一个价格，为检查其有效性编写以下代码"
   ]
  },
  {
   "cell_type": "code",
   "execution_count": 5,
   "metadata": {},
   "outputs": [
    {
     "ename": "ValueError",
     "evalue": "invalid literal for int() with base 10: 'xyz'",
     "output_type": "error",
     "traceback": [
      "\u001b[1;31m---------------------------------------------------------------------------\u001b[0m",
      "\u001b[1;31mValueError\u001b[0m                                Traceback (most recent call last)",
      "\u001b[1;32m<ipython-input-5-71736bfc94f6>\u001b[0m in \u001b[0;36m<module>\u001b[1;34m()\u001b[0m\n\u001b[0;32m      3\u001b[0m     \u001b[1;32mreturn\u001b[0m \u001b[0mint\u001b[0m\u001b[1;33m(\u001b[0m\u001b[0mprice\u001b[0m\u001b[1;33m)\u001b[0m\u001b[1;33m\u001b[0m\u001b[0m\n\u001b[0;32m      4\u001b[0m \u001b[1;31m# 调用函数\u001b[0m\u001b[1;33m\u001b[0m\u001b[1;33m\u001b[0m\u001b[0m\n\u001b[1;32m----> 5\u001b[1;33m \u001b[0mtest_price\u001b[0m\u001b[1;33m(\u001b[0m\u001b[1;34m\"xyz\"\u001b[0m\u001b[1;33m)\u001b[0m\u001b[1;33m\u001b[0m\u001b[0m\n\u001b[0m",
      "\u001b[1;32m<ipython-input-5-71736bfc94f6>\u001b[0m in \u001b[0;36mtest_price\u001b[1;34m(price)\u001b[0m\n\u001b[0;32m      1\u001b[0m \u001b[1;31m# 定义函数\u001b[0m\u001b[1;33m\u001b[0m\u001b[1;33m\u001b[0m\u001b[0m\n\u001b[0;32m      2\u001b[0m \u001b[1;32mdef\u001b[0m \u001b[0mtest_price\u001b[0m\u001b[1;33m(\u001b[0m\u001b[0mprice\u001b[0m\u001b[1;33m)\u001b[0m\u001b[1;33m:\u001b[0m\u001b[1;33m\u001b[0m\u001b[0m\n\u001b[1;32m----> 3\u001b[1;33m     \u001b[1;32mreturn\u001b[0m \u001b[0mint\u001b[0m\u001b[1;33m(\u001b[0m\u001b[0mprice\u001b[0m\u001b[1;33m)\u001b[0m\u001b[1;33m\u001b[0m\u001b[0m\n\u001b[0m\u001b[0;32m      4\u001b[0m \u001b[1;31m# 调用函数\u001b[0m\u001b[1;33m\u001b[0m\u001b[1;33m\u001b[0m\u001b[0m\n\u001b[0;32m      5\u001b[0m \u001b[0mtest_price\u001b[0m\u001b[1;33m(\u001b[0m\u001b[1;34m\"xyz\"\u001b[0m\u001b[1;33m)\u001b[0m\u001b[1;33m\u001b[0m\u001b[0m\n",
      "\u001b[1;31mValueError\u001b[0m: invalid literal for int() with base 10: 'xyz'"
     ]
    }
   ],
   "source": [
    "# 定义函数\n",
    "def test_price(price):\n",
    "    return int(price)\n",
    "# 调用函数\n",
    "test_price(\"xyz\")"
   ]
  },
  {
   "cell_type": "code",
   "execution_count": 7,
   "metadata": {},
   "outputs": [
    {
     "name": "stdout",
     "output_type": "stream",
     "text": [
      "166\n"
     ]
    }
   ],
   "source": [
    "def test_price(price):\n",
    "    try:\n",
    "        p = int(price)\n",
    "    except ValueError:\n",
    "        print(\"参数不是数字\")\n",
    "    else:\n",
    "        print(p+100)\n",
    "        \n",
    "test_price(\"66\")"
   ]
  },
  {
   "cell_type": "markdown",
   "metadata": {},
   "source": [
    "### 附：所有错误类型以及继承关系见https://docs.python.org/3/library/exceptions.html#exception-hierarchy"
   ]
  },
  {
   "cell_type": "markdown",
   "metadata": {},
   "source": [
    "## raise\n",
    "使用raise语句自己触发异常"
   ]
  },
  {
   "cell_type": "code",
   "execution_count": 9,
   "metadata": {},
   "outputs": [],
   "source": [
    "def check_price(price):\n",
    "    if price < 0:\n",
    "        raise Exception(\"Invalid price!\", price)# 触发异常后，后面的代码就不会再执行"
   ]
  },
  {
   "cell_type": "code",
   "execution_count": 10,
   "metadata": {},
   "outputs": [
    {
     "name": "stdout",
     "output_type": "stream",
     "text": [
      "('Invalid price!', -1)\n"
     ]
    }
   ],
   "source": [
    "try:\n",
    "    check_price(-1)\n",
    "    print('right')\n",
    "    #触发异常\n",
    "except Exception as e:\n",
    "    print (e)\n",
    "else:\n",
    "    print ('can_trade')"
   ]
  },
  {
   "cell_type": "markdown",
   "metadata": {},
   "source": [
    "### 关于异常调试的课堂练习\n",
    "运行下面的代码，根据异常信息进行分析，定位出错误源头，并修复："
   ]
  },
  {
   "cell_type": "code",
   "execution_count": 18,
   "metadata": {},
   "outputs": [
    {
     "name": "stdout",
     "output_type": "stream",
     "text": [
      "<class 'map'>\n",
      "100 + 200 + 345 = 645.0\n",
      "<class 'map'>\n",
      "99 + 88 + 7.6 = 194.6\n"
     ]
    }
   ],
   "source": [
    "from functools import reduce\n",
    "\n",
    "def str2num(s):\n",
    "    return float(s)\n",
    "\n",
    "def calc(exp):\n",
    "    ss = exp.split('+')\n",
    "    ns = map(str2num, ss)\n",
    "    print(type(ns))\n",
    "    return reduce(lambda acc, x: acc + x, ns)\n",
    "\n",
    "def main():\n",
    "    r = calc('100 + 200 + 345')\n",
    "    print('100 + 200 + 345 =', r)\n",
    "    r = calc('99 + 88 + 7.6')\n",
    "    print('99 + 88 + 7.6 =', r)\n",
    "\n",
    "main()"
   ]
  },
  {
   "cell_type": "markdown",
   "metadata": {},
   "source": [
    "### 6、文件处理\n",
    "open()/write()/read()/close()\n",
    "\n",
    "os.rename()/os.remove()"
   ]
  },
  {
   "cell_type": "code",
   "execution_count": 12,
   "metadata": {},
   "outputs": [],
   "source": [
    "#打开文件\n",
    "w = open(\"channel.txt\") "
   ]
  },
  {
   "cell_type": "code",
   "execution_count": 13,
   "metadata": {},
   "outputs": [],
   "source": [
    "#在文件中读写\n",
    "c = w.read(20)"
   ]
  },
  {
   "cell_type": "code",
   "execution_count": 14,
   "metadata": {},
   "outputs": [
    {
     "data": {
      "text/plain": [
       "''"
      ]
     },
     "execution_count": 14,
     "metadata": {},
     "output_type": "execute_result"
    }
   ],
   "source": [
    "c"
   ]
  },
  {
   "cell_type": "code",
   "execution_count": 18,
   "metadata": {
    "collapsed": true
   },
   "outputs": [],
   "source": [
    "#打开文件"
   ]
  },
  {
   "cell_type": "code",
   "execution_count": 19,
   "metadata": {
    "collapsed": true
   },
   "outputs": [],
   "source": [
    "#读写文件"
   ]
  },
  {
   "cell_type": "code",
   "execution_count": 20,
   "metadata": {
    "collapsed": true
   },
   "outputs": [],
   "source": [
    "#文件更名"
   ]
  },
  {
   "cell_type": "code",
   "execution_count": 21,
   "metadata": {
    "collapsed": true
   },
   "outputs": [],
   "source": [
    "#删除文件"
   ]
  }
 ],
 "metadata": {
  "kernelspec": {
   "display_name": "Python 3",
   "language": "python",
   "name": "python3"
  },
  "language_info": {
   "codemirror_mode": {
    "name": "ipython",
    "version": 3
   },
   "file_extension": ".py",
   "mimetype": "text/x-python",
   "name": "python",
   "nbconvert_exporter": "python",
   "pygments_lexer": "ipython3",
   "version": "3.6.5"
  }
 },
 "nbformat": 4,
 "nbformat_minor": 2
}
