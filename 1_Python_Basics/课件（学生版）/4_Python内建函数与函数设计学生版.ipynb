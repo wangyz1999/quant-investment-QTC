{
 "cells": [
  {
   "cell_type": "markdown",
   "metadata": {},
   "source": [
    "# 函数定义\n",
    "\n",
    "函数是组织好的，可重复使用的，用来实现单一，或相关联功能的代码段。 \n",
    "- 可以自己创建函数，这被叫做用户自定义函数。 \n",
    "- 函数代码块以 def 关键词开头，后接函数标识符名称和圆括号()。 \n",
    "- 任何传入参数和自变量必须放在圆括号中间。圆括号之间可以用于定义参数。 \n",
    "- 函数的第一行语句可以选择性地使用文档字符串—用于存放函数说明。 \n",
    "- 函数内容以冒号起始，并且缩进。 \n",
    "- return [表达式] 结束函数，选择性地返回一个值给调用方。不带表达式的return相当于返回 None。"
   ]
  },
  {
   "cell_type": "markdown",
   "metadata": {},
   "source": [
    "### 函数语法\n",
    "def function_name( parameters ):\n",
    "\n",
    "    '函数_文档字符串'\n",
    "    functions\n",
    "    return [expression]"
   ]
  },
  {
   "cell_type": "code",
   "execution_count": 1,
   "metadata": {},
   "outputs": [
    {
     "data": {
      "text/plain": [
       "4.0"
      ]
     },
     "execution_count": 1,
     "metadata": {},
     "output_type": "execute_result"
    }
   ],
   "source": [
    "def fun_1(x):\n",
    "# 为x执行平方运算，返回所得的值。\n",
    "    return (x**2)\n",
    "# 调用函数\n",
    "fun_1(2.0)"
   ]
  },
  {
   "cell_type": "markdown",
   "metadata": {},
   "source": [
    "### 参数设置\n",
    "**必备参数**\n",
    "\n",
    "必备参数须以正确的顺序传入函数。调用时的数量必须和声明时的一样。 "
   ]
  },
  {
   "cell_type": "code",
   "execution_count": 2,
   "metadata": {},
   "outputs": [
    {
     "data": {
      "text/plain": [
       "60"
      ]
     },
     "execution_count": 2,
     "metadata": {},
     "output_type": "execute_result"
    }
   ],
   "source": [
    "# 必备参数实例：\n",
    "def fun_2(x,y):\n",
    "    return (x-y)\n",
    "#x,y为必备参数，需要按正确顺序输入\n",
    "fun_2(66,6)"
   ]
  },
  {
   "cell_type": "markdown",
   "metadata": {},
   "source": [
    "**关键字参数**\n",
    "\n",
    "关键字参数和函数调用关系紧密，函数调用使用关键字参数来确定传入的参数值。 "
   ]
  },
  {
   "cell_type": "code",
   "execution_count": 3,
   "metadata": {},
   "outputs": [
    {
     "name": "stdout",
     "output_type": "stream",
     "text": [
      "Stock: AAPL\n",
      "Price: 120\n"
     ]
    }
   ],
   "source": [
    "# 关键字参数实例：\n",
    "def fun_3(StockName,Price):\n",
    "    print ('Stock:',StockName)\n",
    "    print ('Price:', Price)\n",
    "    return\n",
    "#调用函数\n",
    "fun_3(Price=120,StockName='AAPL')"
   ]
  },
  {
   "cell_type": "markdown",
   "metadata": {},
   "source": [
    "**默认参数**\n",
    "\n",
    "调用函数时，缺省参数的值如果没有传入，则被认为是默认值。 "
   ]
  },
  {
   "cell_type": "code",
   "execution_count": 4,
   "metadata": {},
   "outputs": [
    {
     "name": "stdout",
     "output_type": "stream",
     "text": [
      "Stock: APPL\n",
      "Index: SPX500\n"
     ]
    }
   ],
   "source": [
    "# 默认参数实例\n",
    "def StockIndex(StockName,index='SPX500'):\n",
    "    print ('Stock:', StockName)\n",
    "    print ('Index:', index)\n",
    "StockIndex('APPL')"
   ]
  },
  {
   "cell_type": "code",
   "execution_count": 5,
   "metadata": {},
   "outputs": [
    {
     "name": "stdout",
     "output_type": "stream",
     "text": [
      "Stock: APPL\n",
      "Index: NAS100\n"
     ]
    }
   ],
   "source": [
    "StockIndex('APPL',index='NAS100')"
   ]
  },
  {
   "cell_type": "markdown",
   "metadata": {},
   "source": [
    "**不定长参数**\n",
    "\n",
    "你可能需要一个函数能处理比当初声明时更多的参数。这些参数叫做不定长参数，和上述2种参数不同，声明时不会命名。 \n",
    "\n",
    "以一个＊开始的参数，代表一个任意长的元组，一个以＊＊开始的参数，代表一个字典："
   ]
  },
  {
   "cell_type": "code",
   "execution_count": 6,
   "metadata": {},
   "outputs": [],
   "source": [
    "# 不定长参数实例\n",
    "def fun_4(*agrs, **kwargs):\n",
    "    print(agrs)\n",
    "    print(kwargs)"
   ]
  },
  {
   "cell_type": "code",
   "execution_count": 7,
   "metadata": {},
   "outputs": [
    {
     "name": "stdout",
     "output_type": "stream",
     "text": [
      "(1, 2, 3, 4)\n",
      "{}\n"
     ]
    }
   ],
   "source": [
    "fun_4(1,2,3,4)"
   ]
  },
  {
   "cell_type": "code",
   "execution_count": 8,
   "metadata": {},
   "outputs": [
    {
     "name": "stdout",
     "output_type": "stream",
     "text": [
      "()\n",
      "{'a': 1, 'b': 2, 'c': 3}\n"
     ]
    }
   ],
   "source": [
    "fun_4(a=1,b=2,c=3)"
   ]
  },
  {
   "cell_type": "code",
   "execution_count": 9,
   "metadata": {},
   "outputs": [
    {
     "name": "stdout",
     "output_type": "stream",
     "text": [
      "(1, 2, 3, 4)\n",
      "{'a': 1, 'b': 2, 'c': 3}\n"
     ]
    }
   ],
   "source": [
    "fun_4(1,2,3,4, a=1,b=2,c=3)"
   ]
  },
  {
   "cell_type": "code",
   "execution_count": 10,
   "metadata": {},
   "outputs": [
    {
     "name": "stdout",
     "output_type": "stream",
     "text": [
      "('a', 1, 'b')\n",
      "{'a': 1, 'b': '2', 'c': 3}\n"
     ]
    }
   ],
   "source": [
    "fun_4('a', 1, 'b', a=1, b='2', c=3)"
   ]
  },
  {
   "cell_type": "markdown",
   "metadata": {},
   "source": [
    "### 关于函数设计的课堂练习"
   ]
  },
  {
   "cell_type": "markdown",
   "metadata": {},
   "source": [
    "### 匿名函数\n",
    "python 使用 lambda 来创建匿名函数。 \n",
    "- lambda只是一个表达式，函数体比def简单很多。 \n",
    "- lambda的主体是一个表达式，而不是一个代码块。仅仅能在lambda表达式中封装有限的逻辑进去。 \n",
    "- lambda函数拥有自己的命名空间，且不能访问自有参数列表之外或全局命名空间里的参数。\n",
    "\n",
    "虽然lambda函数看起来只能写一行，却不等同于C或C++的内联函数，后者的目的是调用小函数时不占用栈内存从而增加运行效率。"
   ]
  },
  {
   "cell_type": "code",
   "execution_count": 11,
   "metadata": {},
   "outputs": [
    {
     "name": "stdout",
     "output_type": "stream",
     "text": [
      "60\n"
     ]
    }
   ],
   "source": [
    "# 匿名函数实例\n",
    "fun_5 = lambda a, b: a - b\n",
    "print (fun_5(66,6))"
   ]
  },
  {
   "cell_type": "code",
   "execution_count": 12,
   "metadata": {},
   "outputs": [
    {
     "data": {
      "text/plain": [
       "[0, 1, 4, 9, 16]"
      ]
     },
     "execution_count": 12,
     "metadata": {},
     "output_type": "execute_result"
    }
   ],
   "source": [
    "list(map(lambda x : x**2, range(5)))"
   ]
  },
  {
   "cell_type": "markdown",
   "metadata": {},
   "source": [
    "### return语句\n",
    "return语句[表达式]退出函数，选择性地向调用方返回一个表达式。\n",
    "\n",
    "不带参数值的return语句返回None\n",
    "\n",
    "思考：return和print有什么区别？"
   ]
  },
  {
   "cell_type": "code",
   "execution_count": 13,
   "metadata": {},
   "outputs": [
    {
     "name": "stdout",
     "output_type": "stream",
     "text": [
      "60\n",
      "11.0\n"
     ]
    }
   ],
   "source": [
    "def fun_6(a,b):\n",
    "    answer = a-b\n",
    "    print (answer)\n",
    "    return(a/b)\n",
    "print(fun_6(66,6))"
   ]
  },
  {
   "cell_type": "markdown",
   "metadata": {},
   "source": [
    "### 变量作用域\n",
    "(全局变量与局部变量)"
   ]
  },
  {
   "cell_type": "code",
   "execution_count": 1,
   "metadata": {},
   "outputs": [
    {
     "name": "stdout",
     "output_type": "stream",
     "text": [
      "局部变量： 60\n",
      "全局变量： 66\n"
     ]
    }
   ],
   "source": [
    "answer=66 # 这是一个全局变量\n",
    "def fun_7(a,b):\n",
    "    answer = a-b # answer在这里是局部变量.\n",
    "    print ('局部变量：', answer)\n",
    "    return(answer)\n",
    "fun_7(66,6)\n",
    "print('全局变量：', answer)"
   ]
  },
  {
   "cell_type": "markdown",
   "metadata": {},
   "source": [
    "### @课堂练习：定义一个函数fun_8(h), 功能是输入高度可输出物体自由落体的时间（g取9.8）"
   ]
  },
  {
   "cell_type": "code",
   "execution_count": 2,
   "metadata": {},
   "outputs": [
    {
     "name": "stdout",
     "output_type": "stream",
     "text": [
      "4.5175395145262565\n"
     ]
    }
   ],
   "source": [
    "def fun_8(h):\n",
    "    return (2 * h / 9.8) ** (1/2)\n",
    "\n",
    "print(fun_8(100))"
   ]
  },
  {
   "cell_type": "markdown",
   "metadata": {},
   "source": [
    "## 2 - 内建函数\n",
    "参考资料http://www.runoob.com/python/python-built-in-functions.html"
   ]
  },
  {
   "cell_type": "markdown",
   "metadata": {},
   "source": [
    "# Range\n",
    "range(start, stop[, step])"
   ]
  },
  {
   "cell_type": "markdown",
   "metadata": {},
   "source": [
    "#### 生成以5开始，到99，间隔为5的list"
   ]
  },
  {
   "cell_type": "code",
   "execution_count": 4,
   "metadata": {},
   "outputs": [
    {
     "data": {
      "text/plain": [
       "[5, 10, 15, 20, 25, 30, 35, 40, 45, 50, 55, 60, 65, 70, 75, 80, 85, 90, 95]"
      ]
     },
     "execution_count": 4,
     "metadata": {},
     "output_type": "execute_result"
    }
   ],
   "source": [
    "list(range(5,99,5))"
   ]
  },
  {
   "cell_type": "markdown",
   "metadata": {},
   "source": [
    "# Len"
   ]
  },
  {
   "cell_type": "markdown",
   "metadata": {},
   "source": [
    "#### 返回长度"
   ]
  },
  {
   "cell_type": "code",
   "execution_count": 16,
   "metadata": {},
   "outputs": [],
   "source": []
  },
  {
   "cell_type": "markdown",
   "metadata": {},
   "source": [
    "# Map\n",
    "\n",
    "map(function, iterable, ...)\n",
    "\n",
    "方法： X**2\n",
    "\n",
    "输入： [1,2,3,4,5]\n",
    "\n",
    "返回： [1,4,9,16,25]"
   ]
  },
  {
   "cell_type": "code",
   "execution_count": 17,
   "metadata": {},
   "outputs": [
    {
     "name": "stdout",
     "output_type": "stream",
     "text": [
      "[1, 4, 9, 16, 25]\n"
     ]
    }
   ],
   "source": [
    "print(list(map(lambda x: x**2, range(1,6))))"
   ]
  },
  {
   "cell_type": "code",
   "execution_count": 18,
   "metadata": {},
   "outputs": [],
   "source": [
    "#试着用def计算平方数\n"
   ]
  },
  {
   "cell_type": "markdown",
   "metadata": {},
   "source": [
    "# 方法： $x + y$\n",
    "\n",
    "输入： [1,2,3,4,5] , [8,9,10,11,12]\n",
    "\n",
    "返回： [9, 11, 13, 15, 17]"
   ]
  },
  {
   "cell_type": "code",
   "execution_count": 19,
   "metadata": {},
   "outputs": [
    {
     "name": "stdout",
     "output_type": "stream",
     "text": [
      "[9, 11, 13, 15, 17]\n"
     ]
    }
   ],
   "source": [
    "print(list(map(lambda x, y: x + y, range(1,6), range(8,13))))"
   ]
  },
  {
   "cell_type": "markdown",
   "metadata": {},
   "source": [
    "# Reduce\n",
    "\n",
    "reduce(function, iterable[, initializer])\n",
    "\n",
    "reduce() 函数会对参数序列中元素进行累积。\n",
    "\n",
    "函数将一个数据集合（链表，元组等）中的所有数据进行下列操作：用传给reduce中的函数 function（有两个参数）先对集合中的第 1、2 个元素进行操作，得到的结果再与第三个数据用 function 函数运算，最后得到一个结果。\n",
    "\n",
    "reduce(f, [x1, x2, x3, x4]) = f(f(f(x1, x2), x3), x4)"
   ]
  },
  {
   "cell_type": "code",
   "execution_count": 20,
   "metadata": {},
   "outputs": [
    {
     "name": "stdout",
     "output_type": "stream",
     "text": [
      "25\n"
     ]
    }
   ],
   "source": [
    "from functools import reduce\n",
    "def add(x, y):\n",
    "    return x + y\n",
    "\n",
    "print(reduce(add, [1, 3, 5, 7, 9]))"
   ]
  },
  {
   "cell_type": "code",
   "execution_count": 21,
   "metadata": {},
   "outputs": [
    {
     "name": "stdout",
     "output_type": "stream",
     "text": [
      "35\n"
     ]
    }
   ],
   "source": [
    "print(reduce(add, [1, 3, 5, 7, 9], 10))"
   ]
  },
  {
   "cell_type": "markdown",
   "metadata": {},
   "source": [
    "# Filter\n",
    "Python内建的filter()函数用于过滤序列。\n",
    "\n",
    "和map()类似，filter()也接收一个函数和一个序列。和map()不同的是，filter()把传入的函数依次作用于每个元素，然后根据返回值是True还是False决定保留还是丢弃该元素。"
   ]
  },
  {
   "cell_type": "code",
   "execution_count": 22,
   "metadata": {},
   "outputs": [
    {
     "name": "stdout",
     "output_type": "stream",
     "text": [
      "[1, 5, 9, 15]\n"
     ]
    }
   ],
   "source": [
    "def is_odd(n):\n",
    "    return (n%2==1)\n",
    "\n",
    "print(list(filter(is_odd, [1, 2, 4, 5, 6, 9, 10, 15])))"
   ]
  },
  {
   "cell_type": "markdown",
   "metadata": {},
   "source": [
    "# Sorted\n",
    "\n",
    "sorted(iterable[, cmp[, key[, reverse]]])\n",
    "\n",
    "iterable -- 可迭代对象。\n",
    "\n",
    "key -- 主要是用来进行比较的元素，只有一个参数，具体的函数的参数就是取自于可迭代对象中，指定可迭代对象中的一个元素来进行排序。\n",
    "\n",
    "reverse -- 排序规则，reverse = True 降序 ， reverse = False 升序（默认）。"
   ]
  },
  {
   "cell_type": "code",
   "execution_count": 23,
   "metadata": {},
   "outputs": [],
   "source": [
    "sorted?"
   ]
  },
  {
   "cell_type": "code",
   "execution_count": 24,
   "metadata": {},
   "outputs": [
    {
     "name": "stdout",
     "output_type": "stream",
     "text": [
      "[70, 92, 175, 1000]\n"
     ]
    }
   ],
   "source": [
    "print(sorted([92, 175, 70, 1000]))"
   ]
  },
  {
   "cell_type": "code",
   "execution_count": 25,
   "metadata": {},
   "outputs": [
    {
     "name": "stdout",
     "output_type": "stream",
     "text": [
      "['MSFT', 'IBKR', 'GOOG', 'APPL']\n"
     ]
    }
   ],
   "source": [
    "print(sorted(['MSFT', 'APPL', 'IBKR', 'GOOG'],  reverse=True))"
   ]
  },
  {
   "cell_type": "code",
   "execution_count": 26,
   "metadata": {},
   "outputs": [],
   "source": [
    "L = [('MSFT', 92), ('APPL', 175), ('IBKR', 70), ('GOOG', 1000)]"
   ]
  },
  {
   "cell_type": "code",
   "execution_count": 27,
   "metadata": {},
   "outputs": [
    {
     "name": "stdout",
     "output_type": "stream",
     "text": [
      "[('APPL', 175), ('GOOG', 1000), ('IBKR', 70), ('MSFT', 92)]\n"
     ]
    }
   ],
   "source": [
    "L2 = sorted(L, key=lambda x:x[0])\n",
    "print(L2)"
   ]
  },
  {
   "cell_type": "code",
   "execution_count": 28,
   "metadata": {},
   "outputs": [
    {
     "name": "stdout",
     "output_type": "stream",
     "text": [
      "[('GOOG', 1000), ('APPL', 175), ('MSFT', 92), ('IBKR', 70)]\n"
     ]
    }
   ],
   "source": [
    "L3 = sorted(L, key=lambda x:x[1], reverse=True)\n",
    "print(L3)"
   ]
  }
 ],
 "metadata": {
  "kernelspec": {
   "display_name": "Python 3",
   "language": "python",
   "name": "python3"
  },
  "language_info": {
   "codemirror_mode": {
    "name": "ipython",
    "version": 3
   },
   "file_extension": ".py",
   "mimetype": "text/x-python",
   "name": "python",
   "nbconvert_exporter": "python",
   "pygments_lexer": "ipython3",
   "version": "3.6.5"
  }
 },
 "nbformat": 4,
 "nbformat_minor": 2
}
