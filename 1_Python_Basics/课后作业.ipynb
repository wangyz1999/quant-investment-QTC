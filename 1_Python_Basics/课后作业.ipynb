{
 "cells": [
  {
   "cell_type": "markdown",
   "metadata": {},
   "source": [
    "### 题目1：输出所有由四个数字：1、2、3、4组成的数组？\n",
    "\n",
    "程序分析：可填在百位、十位、个位的数字都是1、2、3、4。组成所有的排列后再去 掉不满足条件的排列。"
   ]
  },
  {
   "cell_type": "code",
   "execution_count": 2,
   "metadata": {},
   "outputs": [
    {
     "name": "stdout",
     "output_type": "stream",
     "text": [
      "1 2 3\n",
      "1 2 4\n",
      "1 3 2\n",
      "1 3 4\n",
      "1 4 2\n",
      "1 4 3\n",
      "2 1 3\n",
      "2 1 4\n",
      "2 3 1\n",
      "2 3 4\n",
      "2 4 1\n",
      "2 4 3\n",
      "3 1 2\n",
      "3 1 4\n",
      "3 2 1\n",
      "3 2 4\n",
      "3 4 1\n",
      "3 4 2\n",
      "4 1 2\n",
      "4 1 3\n",
      "4 2 1\n",
      "4 2 3\n",
      "4 3 1\n",
      "4 3 2\n"
     ]
    }
   ],
   "source": [
    "for i in range(1,5):\n",
    "    for j in range(1,5):\n",
    "        for k in range(1,5):\n",
    "            if( i != k ) and (i != j) and (j != k):\n",
    "                print(i,j,k)"
   ]
  },
  {
   "cell_type": "markdown",
   "metadata": {},
   "source": [
    "### 题目2：生成斐波那契数列"
   ]
  },
  {
   "cell_type": "code",
   "execution_count": 6,
   "metadata": {},
   "outputs": [
    {
     "name": "stdout",
     "output_type": "stream",
     "text": [
      "55\n"
     ]
    }
   ],
   "source": [
    "def fib(n):\n",
    "    a,b = 1,1\n",
    "    for i in range(n-1):\n",
    "        a,b = b,a+b\n",
    "    return a\n",
    " \n",
    "# 输出了第10个斐波那契数列\n",
    "print (fib(10))"
   ]
  },
  {
   "cell_type": "code",
   "execution_count": 8,
   "metadata": {},
   "outputs": [
    {
     "name": "stdout",
     "output_type": "stream",
     "text": [
      "[1, 1, 2, 3, 5, 8, 13, 21, 34, 55]\n"
     ]
    }
   ],
   "source": [
    "def fib(n):\n",
    "    if n == 1:\n",
    "        return [1]\n",
    "    if n == 2:\n",
    "        return [1, 1]\n",
    "    fibs = [1, 1]\n",
    "    for i in range(2, n):\n",
    "        fibs.append(fibs[-1] + fibs[-2])\n",
    "    return fibs\n",
    " \n",
    "# 输出前 10 个斐波那契数列\n",
    "print(fib(10))"
   ]
  },
  {
   "cell_type": "markdown",
   "metadata": {},
   "source": [
    "### 题目三：输出200以内所有素数（选作：同时200以内的素数的数量）"
   ]
  },
  {
   "cell_type": "code",
   "execution_count": 14,
   "metadata": {},
   "outputs": [
    {
     "name": "stdout",
     "output_type": "stream",
     "text": [
      "2   \n",
      "3   \n",
      "5   \n",
      "7   \n",
      "11  \n",
      "13  \n",
      "17  \n",
      "19  \n",
      "23  \n",
      "29  \n",
      "31  \n",
      "37  \n",
      "41  \n",
      "43  \n",
      "47  \n",
      "53  \n",
      "59  \n",
      "61  \n",
      "67  \n",
      "71  \n",
      "73  \n",
      "79  \n",
      "83  \n",
      "89  \n",
      "97  \n",
      "101 \n",
      "103 \n",
      "107 \n",
      "109 \n",
      "113 \n",
      "127 \n",
      "131 \n",
      "137 \n",
      "139 \n",
      "149 \n",
      "151 \n",
      "157 \n",
      "163 \n",
      "167 \n",
      "173 \n",
      "179 \n",
      "181 \n",
      "191 \n",
      "193 \n",
      "197 \n",
      "199 \n",
      "The total is 46\n"
     ]
    }
   ],
   "source": [
    "h = 0\n",
    "leap = 1\n",
    "from math import sqrt\n",
    "from sys import stdout\n",
    "for m in range(2,201):\n",
    "    k = int(sqrt(m + 1))\n",
    "    for i in range(2,k + 1):\n",
    "        if m % i == 0:\n",
    "            leap = 0\n",
    "            break\n",
    "    if leap == 1:\n",
    "        print( '%-4d' % m)\n",
    "        h += 1\n",
    "    leap = 1\n",
    "print ('The total is %d' % h)"
   ]
  },
  {
   "cell_type": "markdown",
   "metadata": {},
   "source": [
    "### 题目四：一球从100米高度自由落下，每次落地后反跳回原高度的一半；再落下，求它在第10次落地时，共经过多少米？第10次反弹多高？"
   ]
  },
  {
   "cell_type": "code",
   "execution_count": 15,
   "metadata": {},
   "outputs": [
    {
     "name": "stdout",
     "output_type": "stream",
     "text": [
      "总高度：tour = 299.609375\n",
      "第10次反弹高度：height = 0.09765625\n"
     ]
    }
   ],
   "source": [
    "tour = []\n",
    "height = []\n",
    " \n",
    "hei = 100.0 # 起始高度\n",
    "tim = 10 # 次数\n",
    " \n",
    "for i in range(1, tim + 1):\n",
    "    # 从第二次开始，落地时的距离应该是反弹高度乘以2（弹到最高点再落下）\n",
    "    if i == 1:\n",
    "        tour.append(hei)\n",
    "    else:\n",
    "        tour.append(2*hei) \n",
    "    hei /= 2\n",
    "    height.append(hei)\n",
    "\n",
    "print('总高度：tour = {0}'.format(sum(tour)))\n",
    "print('第10次反弹高度：height = {0}'.format(height[-1]))"
   ]
  }
 ],
 "metadata": {
  "kernelspec": {
   "display_name": "Python 3",
   "language": "python",
   "name": "python3"
  },
  "language_info": {
   "codemirror_mode": {
    "name": "ipython",
    "version": 3
   },
   "file_extension": ".py",
   "mimetype": "text/x-python",
   "name": "python",
   "nbconvert_exporter": "python",
   "pygments_lexer": "ipython3",
   "version": "3.6.5"
  }
 },
 "nbformat": 4,
 "nbformat_minor": 2
}
