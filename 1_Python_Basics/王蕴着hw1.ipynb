{
 "cells": [
  {
   "cell_type": "code",
   "execution_count": 1,
   "metadata": {},
   "outputs": [
    {
     "name": "stdout",
     "output_type": "stream",
     "text": [
      "1 2 3 5\n",
      "1 2 5 3\n",
      "1 3 2 5\n",
      "1 3 5 2\n",
      "1 5 2 3\n",
      "1 5 3 2\n",
      "2 1 3 5\n",
      "2 1 5 3\n",
      "2 3 1 5\n",
      "2 3 5 1\n",
      "2 5 1 3\n",
      "2 5 3 1\n",
      "3 1 2 5\n",
      "3 1 5 2\n",
      "3 2 1 5\n",
      "3 2 5 1\n",
      "3 5 1 2\n",
      "3 5 2 1\n",
      "5 1 2 3\n",
      "5 1 3 2\n",
      "5 2 1 3\n",
      "5 2 3 1\n",
      "5 3 1 2\n",
      "5 3 2 1\n"
     ]
    }
   ],
   "source": [
    "def num():\n",
    "    for i in (1, 2, 3, 5):\n",
    "        for j in (1, 2, 3, 5):\n",
    "            for k in (1, 2, 3, 5):\n",
    "                for l in (1, 2, 3, 5):\n",
    "                    if i != k and i != j and j != k and \\\n",
    "                       i != l and j != l and k != l:\n",
    "                        print(i, j, k, l)\n",
    "num()"
   ]
  },
  {
   "cell_type": "code",
   "execution_count": 2,
   "metadata": {},
   "outputs": [
    {
     "name": "stdout",
     "output_type": "stream",
     "text": [
      "144\n"
     ]
    }
   ],
   "source": [
    "def fib():\n",
    "    sum = 1\n",
    "    a,b = 1,1\n",
    "    for i in range(10):\n",
    "        sum += a\n",
    "        a,b = b,a+b\n",
    "    print(sum)\n",
    "\n",
    "fib()"
   ]
  },
  {
   "cell_type": "code",
   "execution_count": 3,
   "metadata": {},
   "outputs": [
    {
     "name": "stdout",
     "output_type": "stream",
     "text": [
      "2\n",
      "11\n",
      "13\n",
      "17\n",
      "19\n",
      "31\n",
      "37\n",
      "53\n",
      "59\n",
      "71\n",
      "73\n",
      "79\n",
      "97\n",
      "101\n",
      "103\n",
      "107\n",
      "109\n",
      "127\n",
      "149\n",
      "163\n",
      "167\n",
      "181\n"
     ]
    }
   ],
   "source": [
    "def prime():\n",
    "    print(2)\n",
    "    for i in range(3,200,2):\n",
    "        prime = True\n",
    "        for n in range(3, i//2):\n",
    "            if i % n == 0:\n",
    "                prime = False\n",
    "        if prime:\n",
    "            sum = 0\n",
    "            for j in list(str(i)):\n",
    "                sum += int(j)\n",
    "            if sum % 2 == 0:\n",
    "                print(i)\n",
    "\n",
    "prime()"
   ]
  },
  {
   "cell_type": "code",
   "execution_count": null,
   "metadata": {},
   "outputs": [],
   "source": []
  }
 ],
 "metadata": {
  "kernelspec": {
   "display_name": "Python 3",
   "language": "python",
   "name": "python3"
  },
  "language_info": {
   "codemirror_mode": {
    "name": "ipython",
    "version": 3
   },
   "file_extension": ".py",
   "mimetype": "text/x-python",
   "name": "python",
   "nbconvert_exporter": "python",
   "pygments_lexer": "ipython3",
   "version": "3.6.5"
  }
 },
 "nbformat": 4,
 "nbformat_minor": 2
}
