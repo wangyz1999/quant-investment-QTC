{
 "cells": [
  {
   "cell_type": "markdown",
   "metadata": {},
   "source": [
    "安装链接： https://github.com/xingetouzi/rqalpha-mod-optimization"
   ]
  },
  {
   "cell_type": "code",
   "execution_count": null,
   "metadata": {
    "collapsed": true
   },
   "outputs": [],
   "source": [
    "import logging\n",
    "from rqalpha_mod_optimization.optimizer import SimpleOptimizeApplication\n",
    "from rqalpha_mod_optimization.parallel import set_parallel_method, ParallelMethod\n",
    "\n",
    "params = {\n",
    "    'SHORTPERIOD': range(10,30,5),\n",
    "    'LONGPERIOD': range(30, 100, 10),\n",
    "}\n",
    "\n",
    "config = {\n",
    "    \"extra\": {\n",
    "        \"log_level\": \"verbose\",\n",
    "    },\n",
    "    \"base\": {\n",
    "        \"start_date\": \"2015-06-01\",\n",
    "        \"end_date\": \"2017-12-01\",\n",
    "        \"accounts\": {'stock':1000000},\n",
    "        \"matching_type\": \"next_bar\",\n",
    "        \"benchmark\": \"000300.XSHG\",\n",
    "        \"frequency\": \"1d\",\n",
    "    }\n",
    "}\n",
    "\n",
    "if __name__ == \"__main__\":\n",
    "    try:\n",
    "        set_parallel_method(ParallelMethod.DASK)\n",
    "        result = SimpleOptimizeApplication(config).open(\"MA_Strategies.py\").optimize(params)\n",
    "        print(result.sort_values(by=[\"sharpe\"], ascending=False))\n",
    "    except Exception as e:\n",
    "        logging.exception(e)\n",
    "        print(\"******POOL TERMINATE*******\")"
   ]
  }
 ],
 "metadata": {
  "kernelspec": {
   "display_name": "Python 3",
   "language": "python",
   "name": "python3"
  },
  "language_info": {
   "codemirror_mode": {
    "name": "ipython",
    "version": 3
   },
   "file_extension": ".py",
   "mimetype": "text/x-python",
   "name": "python",
   "nbconvert_exporter": "python",
   "pygments_lexer": "ipython3",
   "version": "3.6.1"
  }
 },
 "nbformat": 4,
 "nbformat_minor": 2
}
