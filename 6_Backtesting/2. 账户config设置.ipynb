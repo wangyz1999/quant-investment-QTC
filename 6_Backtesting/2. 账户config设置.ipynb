{
 "cells": [
  {
   "cell_type": "markdown",
   "metadata": {},
   "source": [
    "# 2. 账户config设置"
   ]
  },
  {
   "cell_type": "markdown",
   "metadata": {},
   "source": [
    "## run_func的config设置\n",
    "\n",
    "config分为base/extra/mod\n",
    "\n",
    "mod分为sys_analyser/sys_progress/sys_risk/sys_simulation"
   ]
  },
  {
   "cell_type": "raw",
   "metadata": {
    "collapsed": true
   },
   "source": [
    "config = {\n",
    "  \"base\": {\n",
    "    #设置回测开始时间\n",
    "    \"start_date\": \"2017-01-03\",\n",
    "    #设置回测结束时间\n",
    "    \"end_date\": \"2017-06-01\",\n",
    "    #设置回测的品种与初始资金额\n",
    "    \"accounts\": {'stock':1000000, 'future':1000000},\n",
    "    #设置基准收益\n",
    "    \"benchmark\": \"000300.XSHG\",\n",
    "    #运行当下策略文件\n",
    "    \"strategy_file_path\": os.path.abspath(__file__)\n",
    "  },\n",
    "  \"extra\": {\n",
    "    #查看最详细的日志，'error'只看错误。\n",
    "    \"log_level\": \"verbose\",\n",
    "  },\n",
    "  \"mod\": {\n",
    "    \"sys_analyser\": {\n",
    "        #保存report至当下文件\n",
    "        \"report_save_path\": '.',\n",
    "        #启动策略逐行性能分析\n",
    "        \"enabled\": True,\n",
    "        #打印图形\n",
    "        \"plot\": True\n",
    "     },\n",
    "    \"sys_simulation\": {\n",
    "        \"enabled\": True,\n",
    "        #设置手续费的倍数，默认是10\n",
    "        \"commission_multiplier\": 20,\n",
    "        #设置滑点\n",
    "        \"slippage\": 0.001\n",
    "    }\n",
    "  }\n",
    "}\n",
    "\n",
    "# 您可以指定您要传递的参数\n",
    "rqalpha.run_func(init=init, handle_bar=handle_bar, config=config)"
   ]
  },
  {
   "cell_type": "markdown",
   "metadata": {},
   "source": [
    "## run_code方法"
   ]
  },
  {
   "cell_type": "raw",
   "metadata": {
    "collapsed": true
   },
   "source": [
    "from rqalpha import run_code\n",
    "\n",
    "code = \"\"\"\n",
    "\n",
    "init(context):\n",
    "    pass\n",
    "\n",
    "handle_bar(context, bar_dict):\n",
    "    pass\n",
    "\n",
    "\"\"\"\n",
    "\n",
    "config = {\n",
    "  \"base\": {\n",
    "    \"start_date\": \"2016-06-01\",\n",
    "    \"end_date\": \"2016-12-01\",\n",
    "    \"accounts\": {'stock':1000000},\n",
    "    \"benchmark\": \"000300.XSHG\"\n",
    "  },\n",
    "  \"extra\": {\n",
    "    \"log_level\": \"verbose\",\n",
    "  },\n",
    "  \"mod\": {\n",
    "    \"sys_analyser\": {\n",
    "      \"enabled\": True,\n",
    "      \"plot\": True\n",
    "    }\n",
    "  }\n",
    "}\n",
    "\n",
    "run_code(code, config)"
   ]
  }
 ],
 "metadata": {
  "kernelspec": {
   "display_name": "Python 3",
   "language": "python",
   "name": "python3"
  },
  "language_info": {
   "codemirror_mode": {
    "name": "ipython",
    "version": 3
   },
   "file_extension": ".py",
   "mimetype": "text/x-python",
   "name": "python",
   "nbconvert_exporter": "python",
   "pygments_lexer": "ipython3",
   "version": "3.6.5"
  }
 },
 "nbformat": 4,
 "nbformat_minor": 2
}
