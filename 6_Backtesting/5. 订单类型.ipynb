{
 "cells": [
  {
   "cell_type": "markdown",
   "metadata": {},
   "source": [
    "# 5. 订单类型"
   ]
  },
  {
   "cell_type": "markdown",
   "metadata": {},
   "source": [
    "### order_shares买入一只股票的一定股份数"
   ]
  },
  {
   "cell_type": "code",
   "execution_count": 1,
   "metadata": {},
   "outputs": [
    {
     "name": "stderr",
     "output_type": "stream",
     "text": [
      "WARNING: better_exceptions will only inspect code from the command line\n",
      "         when using: `python -m better_exceptions'. Otherwise, only code\n",
      "         loaded from files will be inspected!\n"
     ]
    }
   ],
   "source": [
    "import rqalpha\n",
    "from rqalpha.api import *\n",
    "\n",
    "def init(context):\n",
    "    context.s1 = '000001.XSHE'\n",
    "\n",
    "def handle_bar(context, bar_dict):\n",
    "    cur_position = context.portfolio.positions[context.s1].quantity\n",
    "    shares = context.portfolio.cash/bar_dict[context.s1].close\n",
    "    if cur_position==0:\n",
    "        order_shares(context.s1, shares)"
   ]
  },
  {
   "cell_type": "markdown",
   "metadata": {},
   "source": [
    "###  order_target_percent买入两只股票的一定百分比"
   ]
  },
  {
   "cell_type": "code",
   "execution_count": 2,
   "metadata": {
    "collapsed": true
   },
   "outputs": [],
   "source": [
    "def init(context):\n",
    "    context.s1 = '000001.XSHE'\n",
    "    context.s2 = '600036.XSHG'\n",
    "\n",
    "def handle_bar(context, bar_dict):\n",
    "    if context.s1 not in context.portfolio.positions:\n",
    "        order_target_percent(context.s1, 0.5)\n",
    "    if context.s2 not in context.portfolio.positions:\n",
    "        order_target_percent(context.s2, 0.5)"
   ]
  },
  {
   "cell_type": "markdown",
   "metadata": {},
   "source": [
    "### sell_open卖空一手股指期货与buy_close买多平仓\n",
    "连续两天MA下跌卖出一手股指期货，连续两天MA上涨买入平仓。"
   ]
  },
  {
   "cell_type": "code",
   "execution_count": 3,
   "metadata": {
    "collapsed": true
   },
   "outputs": [],
   "source": [
    "def init(context):\n",
    "    context.future = get_future_contracts(\"IF\")[0]\n",
    "\n",
    "def handle_bar(context, bar_dict):\n",
    "    prices = history_bars(context.future, 12, '1d', 'close')\n",
    "    ma = talib.EMA(prices, 10)\n",
    "    sell_qty = context.portfolio.positions[future].sell_quantity\n",
    "    if ma[-1] < ma[-2] and ma[-2] < ma[-3] and sell_qty == 0:\n",
    "        sell_open(context.future, 1)\n",
    "\n",
    "    if ma[-1] > ma[-2] and ma[-2]>ma[-3] and sell_qty > 0:\n",
    "        buy_close(context.future, 1)"
   ]
  },
  {
   "cell_type": "markdown",
   "metadata": {},
   "source": [
    "### 更多下单接口使用方式，情参考：  http://rqalpha.readthedocs.io/zh_CN/latest/index.html"
   ]
  },
  {
   "cell_type": "code",
   "execution_count": null,
   "metadata": {
    "collapsed": true
   },
   "outputs": [],
   "source": []
  }
 ],
 "metadata": {
  "kernelspec": {
   "display_name": "Python 3",
   "language": "python",
   "name": "python3"
  },
  "language_info": {
   "codemirror_mode": {
    "name": "ipython",
    "version": 3
   },
   "file_extension": ".py",
   "mimetype": "text/x-python",
   "name": "python",
   "nbconvert_exporter": "python",
   "pygments_lexer": "ipython3",
   "version": "3.6.5"
  }
 },
 "nbformat": 4,
 "nbformat_minor": 2
}
