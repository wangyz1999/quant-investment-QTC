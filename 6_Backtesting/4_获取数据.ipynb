{
 "cells": [
  {
   "cell_type": "markdown",
   "metadata": {},
   "source": [
    "# 4. 数据获取\n",
    "\n",
    "标签（空格分隔）： history_bars\n",
    "\n",
    "## 数据获取代码\n",
    "\n",
    "上证股票： .XSHG\n",
    "\n",
    "深证股票： .XSHE\n",
    "\n",
    "当前可交易股指期货： get_future_contracts(\"IF\")[0]"
   ]
  },
  {
   "cell_type": "code",
   "execution_count": 2,
   "metadata": {},
   "outputs": [
    {
     "name": "stdout",
     "output_type": "stream",
     "text": [
      "sh_stock: [(20170405000000, 19.22, 19.29, 19.01, 19.07, 48602592.)]\n",
      "19.07\n",
      "sz_stock: [(20170405000000, 9.16, 9.22, 9.15, 9.21, 49915009.)]\n",
      "future: [(20170405000000, 3485., 3511.2, 3471.8, 3507.2, 16966.)]\n"
     ]
    },
    {
     "data": {
      "text/plain": [
       "{}"
      ]
     },
     "execution_count": 2,
     "metadata": {},
     "output_type": "execute_result"
    }
   ],
   "source": [
    "import rqalpha\n",
    "from rqalpha.api import *\n",
    "\n",
    "def init(context):\n",
    "    context.sh_stock = '600036.XSHG'\n",
    "    context.sz_stock = '000001.XSHE'\n",
    "    context.future = get_future_contracts(\"IF\")[0]\n",
    "\n",
    "# bar_dirt可读取bar信息\n",
    "def handle_bar(context, bar_dict):\n",
    "    # history_bars用来读取历史数据\n",
    "    sh_stock = history_bars(context.sh_stock, 1, '1d')\n",
    "    print ('sh_stock:', sh_stock)\n",
    "    print (bar_dict[context.sh_stock].last)\n",
    "    sz_stock = history_bars(context.sz_stock, 1, '1d')\n",
    "    print ('sz_stock:', sz_stock)\n",
    "    future = history_bars(context.future, 1, '1d')\n",
    "    print ('future:', future)\n",
    "\n",
    "config = {\n",
    "  \"base\": {\n",
    "    \"start_date\": \"2017-04-03\",\n",
    "    \"end_date\": \"2017-04-05\",\n",
    "    \"accounts\": {'stock':1000000, 'future':1000000},\n",
    "    \"benchmark\": \"000300.XSHG\"\n",
    "  },\n",
    "  \"extra\": {\n",
    "    \"log_level\": \"error\",\n",
    "  },\n",
    "  \"mod\": {\n",
    "    \"sys_analyser\": {\n",
    "      \"enabled\": False,\n",
    "      \"plot\": False\n",
    "    }\n",
    "  }\n",
    "}\n",
    "\n",
    "rqalpha.run_func(init=init, handle_bar=handle_bar, config=config)"
   ]
  },
  {
   "cell_type": "code",
   "execution_count": null,
   "metadata": {
    "collapsed": true
   },
   "outputs": [],
   "source": []
  }
 ],
 "metadata": {
  "kernelspec": {
   "display_name": "Python 3",
   "language": "python",
   "name": "python3"
  },
  "language_info": {
   "codemirror_mode": {
    "name": "ipython",
    "version": 3
   },
   "file_extension": ".py",
   "mimetype": "text/x-python",
   "name": "python",
   "nbconvert_exporter": "python",
   "pygments_lexer": "ipython3",
   "version": "3.6.5"
  }
 },
 "nbformat": 4,
 "nbformat_minor": 2
}
