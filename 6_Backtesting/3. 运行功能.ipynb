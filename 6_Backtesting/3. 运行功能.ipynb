{
 "cells": [
  {
   "cell_type": "markdown",
   "metadata": {},
   "source": [
    "# 3. 运行功能"
   ]
  },
  {
   "cell_type": "markdown",
   "metadata": {},
   "source": [
    "## 更新bundle数据\n",
    "\n",
    "进入cmd\n",
    "\n",
    "rqalpha update_bundle"
   ]
  },
  {
   "cell_type": "code",
   "execution_count": 1,
   "metadata": {},
   "outputs": [],
   "source": [
    "## 导入api，初始化与执行引擎。\n",
    "import rqalpha\n",
    "from rqalpha.api import *\n",
    "\n",
    "# context作为全局变量做传递\n",
    "def init(context):\n",
    "    context.message = 'hello'\n",
    "    #用来写开始的时候做什么\n",
    "\n",
    "def handle_bar(context, bar_dict):\n",
    "    print (context.message)\n",
    "    #用来写每次循环要作什么"
   ]
  },
  {
   "cell_type": "code",
   "execution_count": 2,
   "metadata": {},
   "outputs": [
    {
     "name": "stdout",
     "output_type": "stream",
     "text": [
      "hello\n",
      "hello\n",
      "hello\n",
      "hello\n",
      "hello\n",
      "hello\n"
     ]
    },
    {
     "data": {
      "text/plain": [
       "{}"
      ]
     },
     "execution_count": 2,
     "metadata": {},
     "output_type": "execute_result"
    }
   ],
   "source": [
    "## config设置\n",
    "config = {\n",
    "  \"base\": {\n",
    "    \"start_date\": \"2017-04-21\",\n",
    "    \"end_date\": \"2017-05-01\",\n",
    "    \"accounts\": {'stock':1000000},\n",
    "    \"stock_starting_cash\": 1000000,\n",
    "    \"benchmark\": \"000300.XSHG\",\n",
    "  },\n",
    "  \"extra\": {\n",
    "    \"log_level\": \"error\",\n",
    "  },\n",
    "  \"mod\": {\n",
    "    \"sys_analyser\": {\n",
    "      \"enabled\": False,\n",
    "      \"plot\": False\n",
    "    }\n",
    "  }\n",
    "}\n",
    "\n",
    "# 您可以指定您要传递的参数\n",
    "rqalpha.run_func(init=init, handle_bar=handle_bar, config=config)"
   ]
  },
  {
   "cell_type": "code",
   "execution_count": null,
   "metadata": {
    "collapsed": true
   },
   "outputs": [],
   "source": []
  }
 ],
 "metadata": {
  "kernelspec": {
   "display_name": "Python 3",
   "language": "python",
   "name": "python3"
  },
  "language_info": {
   "codemirror_mode": {
    "name": "ipython",
    "version": 3
   },
   "file_extension": ".py",
   "mimetype": "text/x-python",
   "name": "python",
   "nbconvert_exporter": "python",
   "pygments_lexer": "ipython3",
   "version": "3.6.5"
  }
 },
 "nbformat": 4,
 "nbformat_minor": 2
}
