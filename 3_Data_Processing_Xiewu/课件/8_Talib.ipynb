{
 "cells": [
  {
   "cell_type": "markdown",
   "metadata": {},
   "source": [
    "## Talib\n",
    "\n",
    "\n",
    "Talib是python用于金融技术分析的包。\n",
    "\n",
    "\n",
    "TA_Lib提供什么样的函数？\n",
    "\n",
    "重叠研究（Overlap Studies）\n",
    "\n",
    "动能指标（Momentum Indicators）\n",
    "\n",
    "周期指标（Cycle Indicators）\n",
    "\n",
    "成交量指标（Volume Indicators）\n",
    "\n",
    "波动率指标（Volatility Indicators）\n",
    "\n",
    "数学操作（Math Operators）\n",
    "\n",
    "数学变换（Math Transform）\n",
    "\n",
    "统计功能（Statistic Functions）\n",
    "\n",
    "价格转换（Price Transform）\n",
    "\n",
    "形态识别（Pattern Recognition）"
   ]
  },
  {
   "cell_type": "markdown",
   "metadata": {},
   "source": [
    "## TA_Lib需要什么样的数据格式？\n",
    "\n",
    "'numpy.ndarray'\n",
    "\n",
    "dataframe"
   ]
  },
  {
   "cell_type": "markdown",
   "metadata": {},
   "source": [
    "## #常用代码"
   ]
  },
  {
   "cell_type": "code",
   "execution_count": 1,
   "metadata": {},
   "outputs": [
    {
     "name": "stdout",
     "output_type": "stream",
     "text": [
      "[109.272 109.902 110.724 112.568 114.85 ]\n"
     ]
    }
   ],
   "source": [
    "import talib as ta\n",
    "import pandas as pd\n",
    "import warnings\n",
    "warnings.filterwarnings('ignore')\n",
    "\n",
    "data = pd.read_excel('sz50.xlsx', sheet_name='600036.XSHG', index_col='datetime')\n",
    "\n",
    "#读取'numpy.ndarray'\n",
    "print(ta.MA(data.close.values, 5)[-5:])"
   ]
  },
  {
   "cell_type": "code",
   "execution_count": 2,
   "metadata": {},
   "outputs": [
    {
     "name": "stdout",
     "output_type": "stream",
     "text": [
      "<class 'pandas.core.series.Series'>\n"
     ]
    }
   ],
   "source": [
    "print(type(data.close))"
   ]
  },
  {
   "cell_type": "code",
   "execution_count": 3,
   "metadata": {},
   "outputs": [
    {
     "name": "stdout",
     "output_type": "stream",
     "text": [
      "datetime\n",
      "2017-11-14 15:00:00    109.272\n",
      "2017-11-15 15:00:00    109.902\n",
      "2017-11-16 15:00:00    110.724\n",
      "2017-11-17 15:00:00    112.568\n",
      "2017-11-20 15:00:00    114.850\n",
      "dtype: float64\n"
     ]
    }
   ],
   "source": [
    "#直接读取DataFrame,默认读取cloumns名为close的数据。\n",
    "print(ta.abstract.MA(data, 5).tail())"
   ]
  },
  {
   "cell_type": "markdown",
   "metadata": {},
   "source": [
    "### #rolling 与 talib"
   ]
  },
  {
   "cell_type": "code",
   "execution_count": 4,
   "metadata": {},
   "outputs": [
    {
     "data": {
      "text/plain": [
       "<matplotlib.figure.Figure at 0x23da03390f0>"
      ]
     },
     "metadata": {},
     "output_type": "display_data"
    }
   ],
   "source": [
    "import matplotlib.pyplot as plt\n",
    "\n",
    "rolling_mean = data['close'].rolling(window=5,center=False).mean()\n",
    "\n",
    "plt.figure(figsize=(15, 10))\n",
    "plt.subplot(211)\n",
    "data['close'].plot()\n",
    "rolling_mean.plot()\n",
    "plt.title(\"5days Rolling Mean of 600036.XSHG\")\n",
    "plt.xlabel(\"Date\")\n",
    "plt.ylabel(\"Price\")\n",
    "plt.legend()\n",
    "\n",
    "plt.subplot(212)\n",
    "data['close'].plot()\n",
    "ta.abstract.MA(data, 5).plot()\n",
    "plt.title(\"5days Rolling Mean of 600036.XSHG\")\n",
    "plt.xlabel(\"Date\")\n",
    "plt.ylabel(\"Price\")\n",
    "plt.legend()\n",
    "plt.subplots_adjust(wspace=0, hspace=0.5)\n",
    "plt.show()"
   ]
  },
  {
   "cell_type": "code",
   "execution_count": 5,
   "metadata": {},
   "outputs": [],
   "source": [
    "ta.ATR?"
   ]
  },
  {
   "cell_type": "code",
   "execution_count": 6,
   "metadata": {},
   "outputs": [],
   "source": [
    "ta_atr = ta.ATR(data.high.values,data.low.values,data.close.values,timeperiod = 14)"
   ]
  },
  {
   "cell_type": "markdown",
   "metadata": {},
   "source": [
    "## #课堂练习题 \n",
    "**使用talib计算600036这只股票的布林带并使用matplotlib画出收盘价和布林带**\n",
    "\n",
    "（提示：布林带为BBANDS，使用ta.BBANDS查看输入以及输出，将输出添加到dataframe里面）"
   ]
  },
  {
   "cell_type": "code",
   "execution_count": null,
   "metadata": {},
   "outputs": [],
   "source": []
  },
  {
   "cell_type": "markdown",
   "metadata": {},
   "source": [
    "Github： https://github.com/mrjbq7/ta-lib"
   ]
  }
 ],
 "metadata": {
  "kernelspec": {
   "display_name": "Python 3",
   "language": "python",
   "name": "python3"
  },
  "language_info": {
   "codemirror_mode": {
    "name": "ipython",
    "version": 3
   },
   "file_extension": ".py",
   "mimetype": "text/x-python",
   "name": "python",
   "nbconvert_exporter": "python",
   "pygments_lexer": "ipython3",
   "version": "3.6.5"
  }
 },
 "nbformat": 4,
 "nbformat_minor": 2
}
