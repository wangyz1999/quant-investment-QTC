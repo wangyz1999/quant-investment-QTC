{
 "cells": [
  {
   "cell_type": "markdown",
   "metadata": {},
   "source": [
    "题目一： \n",
    "下载并用pandas导入sz50.xlsx的所有股票，索引设置为datetime，将所有股票的keys打印出来。\n",
    "输出如下：\n",
    " \n",
    "\n",
    "题目二：\n",
    "读取data里的600036这只股票的DataFrame,将其收盘价转换成用Numpy的Array格式，并用talib计算10日均线值，返回ndarray的最后五个值\n",
    "输出如下：\n",
    " \n",
    "\n",
    "题目三：\n",
    "将MA的ndarray数据转换成Series格式，并将价格和MA值用Matplotlib展示出来\n",
    "输出如下：\n",
    " \n",
    "\n",
    "题目四：\n",
    "用talib计算50只股票的周期为5的ROCR100，生成Dataframe，并将前5只股票的 ROCR100（参数timeperiod=20）用一张图显示出来。\n",
    "输出如下：\n",
    " \n",
    "\n",
    "题目五：\n",
    "用Panel来计算50只股票的MACD并且输出MACD的Panel的MultiIndex格式\n",
    "输出如下：\n",
    " \n"
   ]
  },
  {
   "cell_type": "code",
   "execution_count": 18,
   "metadata": {},
   "outputs": [],
   "source": [
    "import numpy as np\n",
    "import pandas as pd\n",
    "\n",
    "data = pd.read_excel('sz50.xlsx', sheetname=None, index_col='datetime')\n",
    "# print(data.keys())\n",
    "close_arr = np.array(data['600000.XSHG']['close'])"
   ]
  },
  {
   "cell_type": "code",
   "execution_count": null,
   "metadata": {},
   "outputs": [],
   "source": []
  },
  {
   "cell_type": "code",
   "execution_count": null,
   "metadata": {},
   "outputs": [],
   "source": []
  }
 ],
 "metadata": {
  "kernelspec": {
   "display_name": "Python 3",
   "language": "python",
   "name": "python3"
  },
  "language_info": {
   "codemirror_mode": {
    "name": "ipython",
    "version": 3
   },
   "file_extension": ".py",
   "mimetype": "text/x-python",
   "name": "python",
   "nbconvert_exporter": "python",
   "pygments_lexer": "ipython3",
   "version": "3.6.5"
  }
 },
 "nbformat": 4,
 "nbformat_minor": 2
}
