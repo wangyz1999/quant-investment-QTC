{
 "cells": [
  {
   "cell_type": "markdown",
   "metadata": {},
   "source": [
    "## Markowitz方差组合模型"
   ]
  },
  {
   "cell_type": "markdown",
   "metadata": {},
   "source": [
    "## 目录\n",
    "1. 什么是Markowitz方差组合模型？\n",
    "2. Portfolioopt的输入格式是什么？\n",
    "3. 如何计算组合风险？\n",
    "4. 如何将Markowitz可视化？"
   ]
  },
  {
   "cell_type": "markdown",
   "metadata": {},
   "source": [
    "**安装Portfolioopt: pip install Portfolioopt**\n",
    "\n",
    "报错注意依赖包的版本：\n",
    "- Numpy+MKL\n",
    "- cvxopt\n",
    "\n",
    "下载：https://www.lfd.uci.edu/~gohlke/pythonlibs/"
   ]
  },
  {
   "cell_type": "markdown",
   "metadata": {},
   "source": [
    "## 什么是Markowitz方差组合模型？\n",
    "马克维茨投资组合理论的基本假设为：\n",
    "\n",
    "(1)投资者是风险规避的，追求期望效用最大化；\n",
    "\n",
    "(2)投资者根据收益率的期望值与方差来选择投资组合；\n",
    "\n",
    "(3)所有投资者处于同一单期投资期。马克维茨提出了以期望收益及其方差(E，δ2)确定有效投资组合。"
   ]
  },
  {
   "cell_type": "markdown",
   "metadata": {},
   "source": [
    "## Portfolioopt的输入格式是什么？"
   ]
  },
  {
   "cell_type": "code",
   "execution_count": 1,
   "metadata": {},
   "outputs": [
    {
     "name": "stdout",
     "output_type": "stream",
     "text": [
      "<class 'pandas.core.panel.Panel'>\n",
      "Dimensions: 3 (items) x 215 (major_axis) x 5 (minor_axis)\n",
      "Items axis: 600036.XSHG to 601318.XSHG\n",
      "Major_axis axis: 2017-01-03 15:00:00 to 2017-11-20 15:00:00\n",
      "Minor_axis axis: close to volume\n"
     ]
    },
    {
     "name": "stderr",
     "output_type": "stream",
     "text": [
      "d:\\programdata\\miniconda3\\lib\\site-packages\\IPython\\core\\interactiveshell.py:2963: FutureWarning: \n",
      "Panel is deprecated and will be removed in a future version.\n",
      "The recommended way to represent these types of 3-dimensional data are with a MultiIndex on a DataFrame, via the Panel.to_frame() method\n",
      "Alternatively, you can use the xarray package http://xarray.pydata.org/en/stable/.\n",
      "Pandas provides a `.to_xarray()` method to help automate this conversion.\n",
      "\n",
      "  exec(code_obj, self.user_global_ns, self.user_ns)\n"
     ]
    }
   ],
   "source": [
    "from datetime import datetime\n",
    "import pandas as pd\n",
    "import portfolioopt as opt\n",
    "\n",
    "symbol=['600036.XSHG','600050.XSHG','601318.XSHG']\n",
    "data_dict = {}\n",
    "for s in symbol:\n",
    "    data =  pd.read_excel('sz50.xlsx',shee_tname=s, index_col='datetime')\n",
    "    data_dict[s] = data\n",
    "PN = pd.Panel(data_dict)\n",
    "print(PN)"
   ]
  },
  {
   "cell_type": "code",
   "execution_count": 2,
   "metadata": {},
   "outputs": [
    {
     "name": "stdout",
     "output_type": "stream",
     "text": [
      "                     600036.XSHG  600050.XSHG  601318.XSHG\n",
      "datetime                                                  \n",
      "2017-01-04 15:00:00     0.002500     0.002500     0.002500\n",
      "2017-01-05 15:00:00    -0.001806    -0.001806    -0.001806\n",
      "2017-01-06 15:00:00    -0.007409    -0.007409    -0.007409\n",
      "2017-01-09 15:00:00     0.001215     0.001215     0.001215\n",
      "2017-01-10 15:00:00    -0.000607    -0.000607    -0.000607\n"
     ]
    }
   ],
   "source": [
    "data_r = PN.minor_xs('close').pct_change()[1:]\n",
    "print (data_r.head())"
   ]
  },
  {
   "cell_type": "code",
   "execution_count": 3,
   "metadata": {},
   "outputs": [
    {
     "name": "stdout",
     "output_type": "stream",
     "text": [
      "600036.XSHG    0.060219\n",
      "600050.XSHG    0.060219\n",
      "601318.XSHG    0.060219\n",
      "dtype: float64\n",
      "             600036.XSHG  600050.XSHG  601318.XSHG\n",
      "600036.XSHG     0.032149     0.032149     0.032149\n",
      "600050.XSHG     0.032149     0.032149     0.032149\n",
      "601318.XSHG     0.032149     0.032149     0.032149\n"
     ]
    }
   ],
   "source": [
    "#主要的两个输入模式\n",
    "exp_rets = data_r.mean()*252\n",
    "cov_mat = data_r.cov()*252\n",
    "print (exp_rets)\n",
    "print (cov_mat)"
   ]
  },
  {
   "cell_type": "code",
   "execution_count": 4,
   "metadata": {},
   "outputs": [
    {
     "name": "stdout",
     "output_type": "stream",
     "text": [
      "600036.XSHG    0.414564\n",
      "600050.XSHG    0.292718\n",
      "601318.XSHG    0.292718\n",
      "dtype: float64\n"
     ]
    },
    {
     "name": "stderr",
     "output_type": "stream",
     "text": [
      "d:\\programdata\\miniconda3\\lib\\site-packages\\portfolioopt\\portfolioopt.py:118: UserWarning: Convergence problem\n",
      "  warnings.warn(\"Convergence problem\")\n"
     ]
    }
   ],
   "source": [
    "#计算目标收益的权重\n",
    "portfolio_1 = opt.markowitz_portfolio(cov_mat, exp_rets, 0.2, allow_short=False, market_neutral=False)\n",
    "print (portfolio_1)"
   ]
  },
  {
   "cell_type": "code",
   "execution_count": 5,
   "metadata": {
    "scrolled": true
   },
   "outputs": [
    {
     "data": {
      "text/plain": [
       "600036.XSHG    0.333333\n",
       "600050.XSHG    0.333333\n",
       "601318.XSHG    0.333333\n",
       "dtype: float64"
      ]
     },
     "execution_count": 5,
     "metadata": {},
     "output_type": "execute_result"
    }
   ],
   "source": [
    "#计算最小方差的权重\n",
    "portfolio_mv = opt.min_var_portfolio(cov_mat, allow_short=False)\n",
    "portfolio_mv"
   ]
  },
  {
   "cell_type": "code",
   "execution_count": 6,
   "metadata": {
    "scrolled": true
   },
   "outputs": [
    {
     "data": {
      "text/plain": [
       "600036.XSHG    0.333333\n",
       "600050.XSHG    0.333333\n",
       "601318.XSHG    0.333333\n",
       "dtype: float64"
      ]
     },
     "execution_count": 6,
     "metadata": {},
     "output_type": "execute_result"
    }
   ],
   "source": [
    "#计算最优组合的权重\n",
    "portfolio_tp = opt.tangency_portfolio(cov_mat, exp_rets, allow_short=False)\n",
    "portfolio_tp"
   ]
  },
  {
   "cell_type": "code",
   "execution_count": 7,
   "metadata": {},
   "outputs": [
    {
     "data": {
      "text/plain": [
       "600036.XSHG    0.333333\n",
       "600050.XSHG    0.333333\n",
       "601318.XSHG    0.333333\n",
       "dtype: float64"
      ]
     },
     "execution_count": 7,
     "metadata": {},
     "output_type": "execute_result"
    }
   ],
   "source": [
    "#去除少于0.01权重的股票\n",
    "weigth_t = opt.truncate_weights(portfolio_tp, min_weight=0.01, rescale=True)\n",
    "weigth_t"
   ]
  },
  {
   "cell_type": "markdown",
   "metadata": {},
   "source": [
    "## 如何计算组合风险？\n",
    "$Portfolio Variance = x'\\sum x$\n",
    "\n",
    "x = weights\n",
    "\n",
    "$\\sum = Cov$"
   ]
  },
  {
   "cell_type": "code",
   "execution_count": 8,
   "metadata": {},
   "outputs": [
    {
     "data": {
      "text/plain": [
       "0.17930009046309336"
      ]
     },
     "execution_count": 8,
     "metadata": {},
     "output_type": "execute_result"
    }
   ],
   "source": [
    "import numpy as np\n",
    "\n",
    "Portfolio_v = np.dot(weigth_t.T, np.dot(cov_mat,weigth_t))\n",
    "P_sigma = np.sqrt(Portfolio_v)\n",
    "P_sigma"
   ]
  },
  {
   "cell_type": "markdown",
   "metadata": {},
   "source": [
    "## 如何将Markowitz可视化？"
   ]
  },
  {
   "cell_type": "code",
   "execution_count": 10,
   "metadata": {},
   "outputs": [
    {
     "name": "stdout",
     "output_type": "stream",
     "text": [
      "sharpe: 0.11276413979429212\n"
     ]
    },
    {
     "data": {
      "text/plain": [
       "<matplotlib.collections.PathCollection at 0x15cc1d08630>"
      ]
     },
     "execution_count": 10,
     "metadata": {},
     "output_type": "execute_result"
    },
    {
     "data": {
      "image/png": "[encoded data removed]",
      "text/plain": [
       "<matplotlib.figure.Figure at 0x15cc1c945c0>"
      ]
     },
     "metadata": {},
     "output_type": "display_data"
    }
   ],
   "source": [
    "import matplotlib.pyplot as plt\n",
    "\n",
    "port_returns = []\n",
    "port_variance = []\n",
    "for p in range(4000):\n",
    "    weights = np.random.rand(len(data_r.T))\n",
    "    weights /= np.sum(weights)\n",
    "    port_returns.append(np.sum(data_r.mean()*252*weights))\n",
    "    port_variance.append(np.sqrt(np.dot(weights.T, np.dot(cov_mat,weights))))\n",
    "port_returns = np.array(port_returns)\n",
    "port_variance = np.array(port_variance)\n",
    "\n",
    "risk_free = 0.04\n",
    "P_r = np.sum(exp_rets*weigth_t)\n",
    "sharpe = (P_r-risk_free)/P_sigma\n",
    "print('sharpe:', sharpe)\n",
    "\n",
    "plt.figure(figsize = (15,7))\n",
    "plt.scatter(port_variance, port_returns, c=(port_returns-risk_free)/port_variance, marker='o')\n",
    "plt.grid(True)\n",
    "plt.xlabel('excepted volatility')\n",
    "plt.ylabel('expected return')\n",
    "plt.colorbar(label='Sharpe ratio')\n",
    "plt.scatter(P_sigma, P_r, c='r', marker='*')\n"
   ]
  },
  {
   "cell_type": "markdown",
   "metadata": {},
   "source": [
    "## 作业\n",
    "选择三只或以上的股票，用Portfolioopt 将最优组合算出来，并将其可视化。"
   ]
  }
 ],
 "metadata": {
  "kernelspec": {
   "display_name": "Python 3",
   "language": "python",
   "name": "python3"
  },
  "language_info": {
   "codemirror_mode": {
    "name": "ipython",
    "version": 3
   },
   "file_extension": ".py",
   "mimetype": "text/x-python",
   "name": "python",
   "nbconvert_exporter": "python",
   "pygments_lexer": "ipython3",
   "version": "3.6.5"
  }
 },
 "nbformat": 4,
 "nbformat_minor": 2
}
